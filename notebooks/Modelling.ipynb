{
 "cells": [
  {
   "cell_type": "code",
   "execution_count": 1304,
   "metadata": {
    "collapsed": false
   },
   "outputs": [],
   "source": [
    "%matplotlib inline\n",
    "\n",
    "import pandas as pd\n",
    "import numpy as np\n",
    "\n",
    "import matplotlib.pyplot as plt\n",
    "import seaborn as sns\n",
    "\n",
    "from sklearn.metrics import mean_squared_error\n",
    "from sklearn.ensemble import RandomForestRegressor, ExtraTreesRegressor\n",
    "from sklearn.linear_model import Lasso, Ridge\n",
    "from sklearn.preprocessing import LabelEncoder\n",
    "\n",
    "import xgboost as xgb\n",
    "\n",
    "sns.set_style('whitegrid')\n",
    "\n",
    "import warnings\n",
    "warnings.filterwarnings('ignore')\n",
    "\n",
    "SEED = 23133\n",
    "\n",
    "%run ../src/data/make_dataset.py\n",
    "%run ../src/features/build_features.py\n",
    "%run ../src/models/cross_validation.py\n",
    "%run ../src/features/average_features.py"
   ]
  },
  {
   "cell_type": "markdown",
   "metadata": {},
   "source": [
    "# Load Files"
   ]
  },
  {
   "cell_type": "code",
   "execution_count": 832,
   "metadata": {
    "collapsed": true
   },
   "outputs": [],
   "source": [
    "# contracts\n",
    "contracts_new = pd.read_csv('../data/raw/Train_BG1IL20/Train/Contracts_New.csv')\n",
    "contracts_end = pd.read_csv('../data/raw/Train_BG1IL20/Train/Contracts_End.csv')\n",
    "\n",
    "# load contacts and resolutions\n",
    "contacts   = pd.read_csv('../data/raw/Train_BG1IL20/Train/Contacts_Pre_2017.csv', parse_dates=['START.DATE', 'END.DATE'])\n",
    "resolution = pd.read_csv('../data/raw/Train_BG1IL20/Train/Resolution_Pre_2017.csv', \n",
    "                                  encoding = 'ISO-8859-1', parse_dates=['Date', 'End_Date'])\n",
    "\n",
    "# test data files\n",
    "contacts_test   = pd.read_csv('../data/raw/Test_74k7qT9/Test/Contacts2017.csv', parse_dates=['Date'])\n",
    "resolution_test = pd.read_csv('../data/raw/Test_74k7qT9/Test/Resolution2017.csv', parse_dates=['Date'])"
   ]
  },
  {
   "cell_type": "markdown",
   "metadata": {},
   "source": [
    "# Contacts"
   ]
  },
  {
   "cell_type": "code",
   "execution_count": 833,
   "metadata": {
    "collapsed": true
   },
   "outputs": [],
   "source": [
    "contacts_df = get_contacts_df(contacts)"
   ]
  },
  {
   "cell_type": "markdown",
   "metadata": {},
   "source": [
    "# Resolutions"
   ]
  },
  {
   "cell_type": "code",
   "execution_count": 834,
   "metadata": {
    "collapsed": false
   },
   "outputs": [],
   "source": [
    "resolution_df = get_resolutions_df(resolution)"
   ]
  },
  {
   "cell_type": "markdown",
   "metadata": {},
   "source": [
    "# Subsample"
   ]
  },
  {
   "cell_type": "code",
   "execution_count": null,
   "metadata": {
    "collapsed": true
   },
   "outputs": [],
   "source": [
    "    ((contacts_df.dates >= '2011/01/01') & (contacts_df.dates <= '2011/03/31'))\\\n",
    "       | ((contacts_df.dates >= '2012/01/01') & (contacts_df.dates <= '2012/03/31'))\\\n",
    "       | ((contacts_df.dates >= '2013/01/01') & (contacts_df.dates <= '2013/03/31'))\\\n",
    "       contacts_df.dates >= '2014/01/01') & (contacts_df.dates <= '2014/03/31'))\\\n",
    "       "
   ]
  },
  {
   "cell_type": "code",
   "execution_count": 1242,
   "metadata": {
    "collapsed": false
   },
   "outputs": [],
   "source": [
    "mask = ((contacts_df.dates >= '2012/01/01') & (contacts_df.dates <= '2012/03/31'))\\\n",
    "       | ((contacts_df.dates >= '2013/01/01') & (contacts_df.dates <= '2013/03/31'))\\\n",
    "       | ((contacts_df.dates >= '2014/01/01') & (contacts_df.dates <= '2014/03/31'))\\\n",
    "       | ((contacts_df.dates >= '2015/01/01') & (contacts_df.dates <= '2015/03/31'))\\\n",
    "       | ((contacts_df.dates >= '2016/01/01') & (contacts_df.dates <= '2016/03/31') & (contacts_df.contact_types != 'Internal Management'))\\\n",
    "        \n",
    "contacts_df_sub = contacts_df.loc[mask, :]\n",
    "\n",
    "mask =   ((resolution_df.dates >= '2012/01/01') & (resolution_df.dates <= '2012/03/31'))\\\n",
    "       | ((resolution_df.dates >= '2013/01/01') & (resolution_df.dates <= '2013/03/31'))\\\n",
    "       | ((resolution_df.dates >= '2014/01/01') & (resolution_df.dates <= '2014/03/31'))\\\n",
    "       | ((resolution_df.dates >= '2015/01/01') & (resolution_df.dates <= '2015/03/31'))\\\n",
    "       | ((resolution_df.dates >= '2016/01/01') & (resolution_df.dates <= '2016/03/31'))\\\n",
    "        \n",
    "resolution_df_sub = resolution_df.loc[mask, :]"
   ]
  },
  {
   "cell_type": "markdown",
   "metadata": {},
   "source": [
    "# Contracts"
   ]
  },
  {
   "cell_type": "code",
   "execution_count": 781,
   "metadata": {
    "collapsed": true
   },
   "outputs": [
    {
     "ename": "KeyboardInterrupt",
     "evalue": "",
     "output_type": "error",
     "traceback": [
      "\u001b[0;31m---------------------------------------------------------------------------\u001b[0m",
      "\u001b[0;31mKeyboardInterrupt\u001b[0m                         Traceback (most recent call last)",
      "\u001b[0;32m<ipython-input-781-892d0baa7005>\u001b[0m in \u001b[0;36m<module>\u001b[0;34m()\u001b[0m\n\u001b[0;32m----> 1\u001b[0;31m \u001b[0mcontracts_new_df\u001b[0m\u001b[0;34m,\u001b[0m \u001b[0mcontracts_end_df\u001b[0m \u001b[0;34m=\u001b[0m \u001b[0mmodify_contracts\u001b[0m\u001b[0;34m(\u001b[0m\u001b[0mcontracts_new\u001b[0m\u001b[0;34m,\u001b[0m \u001b[0mcontracts_end\u001b[0m\u001b[0;34m)\u001b[0m\u001b[0;34m\u001b[0m\u001b[0m\n\u001b[0m",
      "\u001b[0;32m/home/abhishek/Desktop/src/ml/av/xtreme_ml_hack/src/data/make_dataset.py\u001b[0m in \u001b[0;36mmodify_contracts\u001b[0;34m(contracts_new, contracts_end)\u001b[0m\n\u001b[1;32m    101\u001b[0m \u001b[0;34m\u001b[0m\u001b[0m\n\u001b[1;32m    102\u001b[0m \u001b[0;32mdef\u001b[0m \u001b[0mmodify_contracts\u001b[0m\u001b[0;34m(\u001b[0m\u001b[0mcontracts_new\u001b[0m\u001b[0;34m,\u001b[0m \u001b[0mcontracts_end\u001b[0m\u001b[0;34m)\u001b[0m\u001b[0;34m:\u001b[0m\u001b[0;34m\u001b[0m\u001b[0m\n\u001b[0;32m--> 103\u001b[0;31m         \u001b[0mcontract_start_date\u001b[0m \u001b[0;34m=\u001b[0m \u001b[0mcontracts_new\u001b[0m\u001b[0;34m.\u001b[0m\u001b[0mapply\u001b[0m\u001b[0;34m(\u001b[0m\u001b[0mcreate_contract_start_date\u001b[0m\u001b[0;34m,\u001b[0m \u001b[0maxis\u001b[0m\u001b[0;34m=\u001b[0m\u001b[0;36m1\u001b[0m\u001b[0;34m)\u001b[0m\u001b[0;34m\u001b[0m\u001b[0m\n\u001b[0m\u001b[1;32m    104\u001b[0m         \u001b[0mcontract_end_date\u001b[0m   \u001b[0;34m=\u001b[0m \u001b[0mcontracts_end\u001b[0m\u001b[0;34m.\u001b[0m\u001b[0mapply\u001b[0m\u001b[0;34m(\u001b[0m\u001b[0mcreate_contract_end_date\u001b[0m\u001b[0;34m,\u001b[0m \u001b[0maxis\u001b[0m\u001b[0;34m=\u001b[0m\u001b[0;36m1\u001b[0m\u001b[0;34m)\u001b[0m\u001b[0;34m\u001b[0m\u001b[0m\n\u001b[1;32m    105\u001b[0m \u001b[0;34m\u001b[0m\u001b[0m\n",
      "\u001b[0;32m/home/abhishek/anaconda3/lib/python3.6/site-packages/pandas/core/frame.py\u001b[0m in \u001b[0;36mapply\u001b[0;34m(self, func, axis, broadcast, raw, reduce, args, **kwds)\u001b[0m\n\u001b[1;32m   4150\u001b[0m                     \u001b[0;32mif\u001b[0m \u001b[0mreduce\u001b[0m \u001b[0;32mis\u001b[0m \u001b[0;32mNone\u001b[0m\u001b[0;34m:\u001b[0m\u001b[0;34m\u001b[0m\u001b[0m\n\u001b[1;32m   4151\u001b[0m                         \u001b[0mreduce\u001b[0m \u001b[0;34m=\u001b[0m \u001b[0;32mTrue\u001b[0m\u001b[0;34m\u001b[0m\u001b[0m\n\u001b[0;32m-> 4152\u001b[0;31m                     \u001b[0;32mreturn\u001b[0m \u001b[0mself\u001b[0m\u001b[0;34m.\u001b[0m\u001b[0m_apply_standard\u001b[0m\u001b[0;34m(\u001b[0m\u001b[0mf\u001b[0m\u001b[0;34m,\u001b[0m \u001b[0maxis\u001b[0m\u001b[0;34m,\u001b[0m \u001b[0mreduce\u001b[0m\u001b[0;34m=\u001b[0m\u001b[0mreduce\u001b[0m\u001b[0;34m)\u001b[0m\u001b[0;34m\u001b[0m\u001b[0m\n\u001b[0m\u001b[1;32m   4153\u001b[0m             \u001b[0;32melse\u001b[0m\u001b[0;34m:\u001b[0m\u001b[0;34m\u001b[0m\u001b[0m\n\u001b[1;32m   4154\u001b[0m                 \u001b[0;32mreturn\u001b[0m \u001b[0mself\u001b[0m\u001b[0;34m.\u001b[0m\u001b[0m_apply_broadcast\u001b[0m\u001b[0;34m(\u001b[0m\u001b[0mf\u001b[0m\u001b[0;34m,\u001b[0m \u001b[0maxis\u001b[0m\u001b[0;34m)\u001b[0m\u001b[0;34m\u001b[0m\u001b[0m\n",
      "\u001b[0;32m/home/abhishek/anaconda3/lib/python3.6/site-packages/pandas/core/frame.py\u001b[0m in \u001b[0;36m_apply_standard\u001b[0;34m(self, func, axis, ignore_failures, reduce)\u001b[0m\n\u001b[1;32m   4206\u001b[0m                     \u001b[0mlabels\u001b[0m \u001b[0;34m=\u001b[0m \u001b[0mself\u001b[0m\u001b[0;34m.\u001b[0m\u001b[0m_get_agg_axis\u001b[0m\u001b[0;34m(\u001b[0m\u001b[0maxis\u001b[0m\u001b[0;34m)\u001b[0m\u001b[0;34m\u001b[0m\u001b[0m\n\u001b[1;32m   4207\u001b[0m                     result = lib.reduce(values, func, axis=axis, dummy=dummy,\n\u001b[0;32m-> 4208\u001b[0;31m                                         labels=labels)\n\u001b[0m\u001b[1;32m   4209\u001b[0m                     \u001b[0;32mreturn\u001b[0m \u001b[0mSeries\u001b[0m\u001b[0;34m(\u001b[0m\u001b[0mresult\u001b[0m\u001b[0;34m,\u001b[0m \u001b[0mindex\u001b[0m\u001b[0;34m=\u001b[0m\u001b[0mlabels\u001b[0m\u001b[0;34m)\u001b[0m\u001b[0;34m\u001b[0m\u001b[0m\n\u001b[1;32m   4210\u001b[0m                 \u001b[0;32mexcept\u001b[0m \u001b[0mException\u001b[0m\u001b[0;34m:\u001b[0m\u001b[0;34m\u001b[0m\u001b[0m\n",
      "\u001b[0;32mpandas/src/reduce.pyx\u001b[0m in \u001b[0;36mpandas.lib.reduce (pandas/lib.c:45030)\u001b[0;34m()\u001b[0m\n",
      "\u001b[0;32mpandas/src/reduce.pyx\u001b[0m in \u001b[0;36mpandas.lib.Reducer.get_result (pandas/lib.c:34505)\u001b[0;34m()\u001b[0m\n",
      "\u001b[0;32mpandas/src/properties.pyx\u001b[0m in \u001b[0;36mpandas.lib.AxisProperty.__set__ (pandas/lib.c:46249)\u001b[0;34m()\u001b[0m\n",
      "\u001b[0;32m/home/abhishek/anaconda3/lib/python3.6/site-packages/pandas/core/series.py\u001b[0m in \u001b[0;36m_set_axis\u001b[0;34m(self, axis, labels, fastpath)\u001b[0m\n\u001b[1;32m    288\u001b[0m \u001b[0;34m\u001b[0m\u001b[0m\n\u001b[1;32m    289\u001b[0m         \u001b[0;32mif\u001b[0m \u001b[0;32mnot\u001b[0m \u001b[0mfastpath\u001b[0m\u001b[0;34m:\u001b[0m\u001b[0;34m\u001b[0m\u001b[0m\n\u001b[0;32m--> 290\u001b[0;31m             \u001b[0mlabels\u001b[0m \u001b[0;34m=\u001b[0m \u001b[0m_ensure_index\u001b[0m\u001b[0;34m(\u001b[0m\u001b[0mlabels\u001b[0m\u001b[0;34m)\u001b[0m\u001b[0;34m\u001b[0m\u001b[0m\n\u001b[0m\u001b[1;32m    291\u001b[0m \u001b[0;34m\u001b[0m\u001b[0m\n\u001b[1;32m    292\u001b[0m         \u001b[0mis_all_dates\u001b[0m \u001b[0;34m=\u001b[0m \u001b[0mlabels\u001b[0m\u001b[0;34m.\u001b[0m\u001b[0mis_all_dates\u001b[0m\u001b[0;34m\u001b[0m\u001b[0m\n",
      "\u001b[0;31mKeyboardInterrupt\u001b[0m: "
     ]
    }
   ],
   "source": [
    "contracts_new_df, contracts_end_df = modify_contracts(contracts_new, contracts_end)"
   ]
  },
  {
   "cell_type": "code",
   "execution_count": 278,
   "metadata": {
    "collapsed": false
   },
   "outputs": [],
   "source": [
    "# get active contracts by day of year\n",
    "active_contracts = get_active_contracts_by_day(contracts_new_df, contracts_end_df)"
   ]
  },
  {
   "cell_type": "code",
   "execution_count": 159,
   "metadata": {
    "collapsed": false
   },
   "outputs": [],
   "source": [
    "num_contracts_started = contracts_new_df.groupby('date')['NUMBER_OF_CONTRACTS'].sum()\n",
    "num_contracts_ended   = contracts_end_df.groupby('date')['NUMBER_OF_CONTRACTS_ENDED'].sum()\n",
    "\n",
    "# date range\n",
    "date_range = pd.date_range(start='2005-11-25', end='2016-12-31')\n",
    "\n",
    "num_contracts_started = num_contracts_started.reindex(date_range).fillna(0)\n",
    "num_contracts_ended   = num_contracts_ended.reindex(date_range).fillna(0)\n",
    "\n",
    "# total events\n",
    "num_total_events = num_contracts_started + num_contracts_ended\n",
    "num_total_events = num_total_events.reset_index()\n",
    "num_total_events = num_total_events.rename(columns={0: 'total_events'})\n",
    "num_total_events['index'] = pd.to_datetime(num_total_events['index'])"
   ]
  },
  {
   "cell_type": "code",
   "execution_count": 161,
   "metadata": {
    "collapsed": true
   },
   "outputs": [],
   "source": [
    "def find_contracts_3_months_back(total_events, dates):\n",
    "    events = {}\n",
    "    \n",
    "    for date_ in dates:\n",
    "        lookup_date   = pd.to_datetime(date_) + pd.DateOffset(-90)\n",
    "        \n",
    "        if date_ not in events:\n",
    "            events[date_] = total_events.loc[total_events['index'] == lookup_date, 'total_events'].values[0]\n",
    "        \n",
    "    return events"
   ]
  },
  {
   "cell_type": "code",
   "execution_count": 162,
   "metadata": {
    "collapsed": false
   },
   "outputs": [],
   "source": [
    "_3_months_events         = find_contracts_3_months_back(num_total_events, contacts_df_sub.dates.values)\n",
    "_3_months_back_contracts = contacts_df_sub.dates.map(_3_months_events)\n",
    "contacts_df_sub          = contacts_df_sub.assign(_3_months_back_contracts=_3_months_back_contracts)"
   ]
  },
  {
   "cell_type": "code",
   "execution_count": 163,
   "metadata": {
    "collapsed": false
   },
   "outputs": [],
   "source": [
    "_3_months_events_test         = find_contracts_3_months_back(num_total_events, contacts_test.Date.values)\n",
    "_3_months_back_contracts_test = contacts_test.Date.map(_3_months_events_test)\n",
    "contacts_test                 = contacts_test.assign(_3_months_back_contracts=_3_months_back_contracts_test)"
   ]
  },
  {
   "cell_type": "markdown",
   "metadata": {},
   "source": [
    "# Feature Engineering"
   ]
  },
  {
   "cell_type": "code",
   "execution_count": 1243,
   "metadata": {
    "collapsed": false
   },
   "outputs": [],
   "source": [
    "contacts_df_sub = contacts_df_sub.rename(columns={'dates': 'date', 'contact_types': 'contact_type'})\n",
    "contacts_test   = contacts_test.rename(columns={'Date': 'date', 'CONTACT.TYPE': 'contact_type'})\n",
    "\n",
    "contacts_df_sub, contacts_test = prepare_average_features(contacts_df, contacts_df_sub, contacts_test)"
   ]
  },
  {
   "cell_type": "code",
   "execution_count": 1305,
   "metadata": {
    "collapsed": false
   },
   "outputs": [
    {
     "data": {
      "text/plain": [
       "<__main__.Dataset at 0x7fe738d149b0>"
      ]
     },
     "execution_count": 1305,
     "metadata": {},
     "output_type": "execute_result"
    }
   ],
   "source": [
    "data         = pd.concat((contacts_df_sub, contacts_test))\n",
    "data['date'] = pd.to_datetime(data['date'])\n",
    "\n",
    "dt = Dataset(data)\n",
    "\n",
    "dt.add_week()\\\n",
    "  .add_month()\\\n",
    "  .add_year()\\\n",
    "  .add_dayofyear()\\\n",
    "  .add_weekday()\\\n",
    "  .add_isweekend()\\\n",
    "  .add_isspecialday()\\\n",
    "  .add_mean_num_contacts_by_week()\\\n",
    "  .add_median_num_contacts_by_type()\\\n",
    "  .add_mean_num_contacts_by_type_month()\\\n",
    "  .add_max_num_contacts_by_type_month()\\\n",
    "  .add_min_num_contacts_by_type_month()\\\n",
    "  .add_range_contacts_by_type_month()\\\n",
    "  .ohe_features(['contact_type'])"
   ]
  },
  {
   "cell_type": "markdown",
   "metadata": {},
   "source": [
    "** Contracts Features **"
   ]
  },
  {
   "cell_type": "code",
   "execution_count": 166,
   "metadata": {
    "collapsed": true
   },
   "outputs": [],
   "source": [
    "_3_months_events         = find_contracts_3_months_back(num_total_events, resolution_df_sub.dates.values)\n",
    "_3_months_back_contracts = resolution_df_sub.dates.map(_3_months_events)\n",
    "resolution_df_sub        = resolution_df_sub.assign(_3_months_back_contracts=_3_months_back_contracts)"
   ]
  },
  {
   "cell_type": "code",
   "execution_count": 167,
   "metadata": {
    "collapsed": false
   },
   "outputs": [],
   "source": [
    "_3_months_events_test         = find_contracts_3_months_back(num_total_events, resolution_test.Date.values)\n",
    "_3_months_back_contracts_test = resolution_test.Date.map(_3_months_events_test)\n",
    "resolution_test               = resolution_test.assign(_3_months_back_contracts=_3_months_back_contracts_test)"
   ]
  },
  {
   "cell_type": "markdown",
   "metadata": {},
   "source": [
    "** Resolution Features **"
   ]
  },
  {
   "cell_type": "code",
   "execution_count": 1269,
   "metadata": {
    "collapsed": false
   },
   "outputs": [
    {
     "data": {
      "text/plain": [
       "<__main__.Dataset at 0x7fe7394afc18>"
      ]
     },
     "execution_count": 1269,
     "metadata": {},
     "output_type": "execute_result"
    }
   ],
   "source": [
    "resolution_df_sub = resolution_df_sub.rename(columns={'dates': 'date'})\n",
    "resolution_test   = resolution_test.rename(columns={'Date': 'date', 'Category': 'categories', 'Subject': 'subjects'})\n",
    "\n",
    "data = pd.concat((resolution_df_sub, resolution_test))\n",
    "data['date'] = pd.to_datetime(data['date'])\n",
    "\n",
    "dt_res = Dataset(data)\n",
    "\n",
    "dt_res.add_week()\\\n",
    "  .add_month()\\\n",
    "  .add_year()\\\n",
    "  .add_dayofyear()\\\n",
    "  .add_weekday()\\\n",
    "  .add_isweekend()\\\n",
    "  .add_isspecialday()\\\n",
    "  .ohe_features(['categories', 'subjects'])"
   ]
  },
  {
   "cell_type": "markdown",
   "metadata": {},
   "source": [
    "# Processing"
   ]
  },
  {
   "cell_type": "code",
   "execution_count": 1306,
   "metadata": {
    "collapsed": false
   },
   "outputs": [],
   "source": [
    "train = dt.dataset.iloc[:len(contacts_df_sub)]\n",
    "test  = dt.dataset.iloc[len(contacts_df_sub):]"
   ]
  },
  {
   "cell_type": "code",
   "execution_count": 1307,
   "metadata": {
    "collapsed": false
   },
   "outputs": [
    {
     "data": {
      "text/plain": [
       "Index(['contact_type_Fax - Input', 'contact_type_Fax Acknowledgement - Input',\n",
       "       'contact_type_Installation Report - Input',\n",
       "       'contact_type_Internal Management', 'contact_type_Mail - Input',\n",
       "       'contact_type_Mail - Recieved', 'contact_type_Tweet - Input',\n",
       "       'contact_type_Visit', 'contact_type_Web - Input', 'Contacts', 'ID',\n",
       "       'contact_type', 'date', 'num_contacts', 'quarter_mean', 'week', 'month',\n",
       "       'year', 'day_of_year', 'weekday', 'is_weekend', 'isspecialday',\n",
       "       'mean_contact_week', 'median_contact_type', 'mean_contact_type',\n",
       "       'max_contact_type', 'min_contact_type', 'range_contact_type'],\n",
       "      dtype='object')"
      ]
     },
     "execution_count": 1307,
     "metadata": {},
     "output_type": "execute_result"
    }
   ],
   "source": [
    "train.columns"
   ]
  },
  {
   "cell_type": "code",
   "execution_count": 1312,
   "metadata": {
    "collapsed": false
   },
   "outputs": [],
   "source": [
    "features = [\n",
    "           'contact_type_Fax - Input', 'contact_type_Fax Acknowledgement - Input',\n",
    "           'contact_type_Installation Report - Input',\n",
    "           'contact_type_Internal Management', 'contact_type_Mail - Input',\n",
    "           'contact_type_Mail - Recieved', 'contact_type_Tweet - Input',\n",
    "           'contact_type_Visit', 'contact_type_Web - Input',\n",
    "           'day_of_year', 'weekday', 'mean_contact_week',\n",
    "           'max_contact_type',\n",
    "           'is_weekend', 'isspecialday', 'median_contact_type',\n",
    "           'date'\n",
    "           ]\n",
    "\n",
    "X = train[features]\n",
    "y = train.num_contacts\n",
    "\n",
    "Xtest = test[features]"
   ]
  },
  {
   "cell_type": "code",
   "execution_count": 1280,
   "metadata": {
    "collapsed": true
   },
   "outputs": [],
   "source": [
    "train_res = dt_res.dataset.iloc[:len(resolution_df_sub)]\n",
    "test_res  = dt_res.dataset.iloc[len(resolution_df_sub):]"
   ]
  },
  {
   "cell_type": "code",
   "execution_count": 1282,
   "metadata": {
    "collapsed": true
   },
   "outputs": [],
   "source": [
    "features_res = ['categories_Consultation', 'categories_Non Compliance',\n",
    "               'categories_Request', 'categories_Tecnical Claim',\n",
    "               'subjects_Appointment', 'subjects_Billing cycle',\n",
    "               'subjects_Business Cycle', 'subjects_Charter Commitments',\n",
    "               'subjects_Closing Application', 'subjects_Complain',\n",
    "               'subjects_Contractual conditions', 'subjects_Customer Care',\n",
    "               'subjects_Customer Data Modification', 'subjects_Damage',\n",
    "               'subjects_Data Protection and Comunic.Publi.',\n",
    "               'subjects_Defective installation', 'subjects_Duplicate Documents',\n",
    "               'subjects_Escape', 'subjects_Facilities', 'subjects_GDPR',\n",
    "               'subjects_Infrastructures', 'subjects_Invoice Modifications',\n",
    "               'subjects_Invoice charges', 'subjects_Invoiced consumption',\n",
    "               'subjects_Lack of pressure', 'subjects_Mod. Commercial Data',\n",
    "               'subjects_Modifications Payments / Collections',\n",
    "               'subjects_Offer acceptance', 'subjects_Official Complaint',\n",
    "               'subjects_Others', 'subjects_Paving', 'subjects_Payment',\n",
    "               'subjects_Quality service', 'subjects_Service point trading',\n",
    "               'subjects_Sewerage', 'subjects_Smart Metering', 'subjects_Supplies',\n",
    "               'subjects_Technical management', 'subjects_Water is missing',\n",
    "               'subjects_Water quality',\n",
    "               'month', 'weekday',\n",
    "               'is_weekend', 'isspecialday',\n",
    "               'year', 'week', 'date'\n",
    "               ]\n",
    "\n",
    "X_res = train_res[features_res]\n",
    "y_res = train_res.num_resolutions\n",
    "\n",
    "Xtest_res = test_res[features_res]"
   ]
  },
  {
   "cell_type": "markdown",
   "metadata": {},
   "source": [
    "# Cross - Validation"
   ]
  },
  {
   "cell_type": "code",
   "execution_count": 1313,
   "metadata": {
    "collapsed": false
   },
   "outputs": [],
   "source": [
    "_1_Jan_median_contacts = train.loc[(train.date.dt.month == 1) & (train.date.dt.day == 1), :].groupby('contact_type')['num_contacts'].median()\n",
    "_6_Jan_median_contacts = train.loc[(train.date.dt.month == 1) & (train.date.dt.day == 6), :].groupby('contact_type')['num_contacts'].median()"
   ]
  },
  {
   "cell_type": "code",
   "execution_count": 1314,
   "metadata": {
    "collapsed": false,
    "scrolled": true
   },
   "outputs": [
    {
     "name": "stdout",
     "output_type": "stream",
     "text": [
      "RMSE:  124.413371303\n"
     ]
    }
   ],
   "source": [
    "# contacts\n",
    "\n",
    "mask   = X.date < '2015/12/31'\n",
    "\n",
    "model1  = xgb.XGBRegressor(max_depth=5, learning_rate=.010, n_estimators=300, gamma=2., colsample_bytree=.7, min_child_weight=2, seed=SEED)\n",
    "model2  = xgb.XGBRegressor(max_depth=8, learning_rate=.010, n_estimators=300, gamma=2., colsample_bytree=.9, \n",
    "                           min_child_weight=2, seed=SEED * 10)\n",
    "\n",
    "model3  = xgb.XGBRegressor(max_depth=3, learning_rate=.010, n_estimators=300, gamma=2., colsample_bytree=.5, \n",
    "                           min_child_weight=1, seed=SEED * 20)\n",
    "\n",
    "Xtrain = X.loc[mask, :]\n",
    "ytrain = y.loc[mask]\n",
    "\n",
    "X_test  = X.loc[~mask & (X.date <= '2016/03/16')]\n",
    "y_test  = y.loc[~mask & (X.date <= '2016/03/16')]\n",
    "\n",
    "# cross_validate_contacts(X.loc[mask, :], y.loc[mask], ['2015/01/01', '2015/02/01', '2015/03/01'], \n",
    "#                         model, \n",
    "#                         features[:-1],\n",
    "#                         plot=True,\n",
    "#                         contact_types=contacts_df.contact_types.unique()[4:5]\n",
    "#                        )\n",
    "\n",
    "model1.fit(Xtrain[features[:-1]], ytrain)\n",
    "model2.fit(Xtrain[features[:-1]], ytrain)\n",
    "model3.fit(Xtrain[features[:-1]], ytrain)\n",
    "\n",
    "preds1 = model1.predict(X_test[features[:-1]])\n",
    "preds2 = model2.predict(X_test[features[:-1]])\n",
    "preds3 = model3.predict(X_test[features[:-1]])\n",
    "\n",
    "\n",
    "preds = preds1 * .4 + preds2 * .4 + preds3 * .2\n",
    "\n",
    "indices_to_replace = X_test[((X_test.date.dt.month == 1) & (X_test.date.dt.day == 1))].index\n",
    "replace_preds      = contacts_df.ix[indices_to_replace]['contact_types'].map(_1_Jan_median_contacts)\n",
    "preds[((X_test.date.dt.month == 1) & (X_test.date.dt.day == 1)).values] = replace_preds\n",
    "\n",
    "indices_to_replace = X_test[((X_test.date.dt.month == 1) & (X_test.date.dt.day == 6))].index\n",
    "replace_preds      = contacts_df.ix[indices_to_replace]['contact_types'].map(_6_Jan_median_contacts)\n",
    "preds[((X_test.date.dt.month == 1) & (X_test.date.dt.day == 6)).values] = replace_preds\n",
    "\n",
    "\n",
    "print('RMSE: ', np.sqrt(mean_squared_error(y_test, preds)))"
   ]
  },
  {
   "cell_type": "code",
   "execution_count": 1252,
   "metadata": {
    "collapsed": false
   },
   "outputs": [
    {
     "data": {
      "image/png": "[encoded data removed]",
      "text/plain": [
       "<matplotlib.figure.Figure at 0x7fe738dc72e8>"
      ]
     },
     "metadata": {},
     "output_type": "display_data"
    }
   ],
   "source": [
    "plt.scatter(y_test, preds);"
   ]
  },
  {
   "cell_type": "code",
   "execution_count": 1241,
   "metadata": {
    "collapsed": false
   },
   "outputs": [
    {
     "data": {
      "text/html": [
       "<div>\n",
       "<table border=\"1\" class=\"dataframe\">\n",
       "  <thead>\n",
       "    <tr style=\"text-align: right;\">\n",
       "      <th></th>\n",
       "      <th>contact_type_Fax - Input</th>\n",
       "      <th>contact_type_Fax Acknowledgement - Input</th>\n",
       "      <th>contact_type_Installation Report - Input</th>\n",
       "      <th>contact_type_Internal Management</th>\n",
       "      <th>contact_type_Mail - Input</th>\n",
       "      <th>contact_type_Mail - Recieved</th>\n",
       "      <th>contact_type_Tweet - Input</th>\n",
       "      <th>contact_type_Visit</th>\n",
       "      <th>contact_type_Web - Input</th>\n",
       "      <th>day_of_year</th>\n",
       "      <th>weekday</th>\n",
       "      <th>mean_contact_week</th>\n",
       "      <th>max_contact_type</th>\n",
       "      <th>is_weekend</th>\n",
       "      <th>isspecialday</th>\n",
       "      <th>date</th>\n",
       "      <th>num_contacts</th>\n",
       "      <th>0</th>\n",
       "    </tr>\n",
       "  </thead>\n",
       "  <tbody>\n",
       "    <tr>\n",
       "      <th>1830</th>\n",
       "      <td>0</td>\n",
       "      <td>0</td>\n",
       "      <td>0</td>\n",
       "      <td>0</td>\n",
       "      <td>0</td>\n",
       "      <td>0</td>\n",
       "      <td>0</td>\n",
       "      <td>0</td>\n",
       "      <td>0</td>\n",
       "      <td>5</td>\n",
       "      <td>0</td>\n",
       "      <td>558.604775</td>\n",
       "      <td>2991.0</td>\n",
       "      <td>0</td>\n",
       "      <td>0</td>\n",
       "      <td>2015-01-05</td>\n",
       "      <td>2991.0</td>\n",
       "      <td>536.776184</td>\n",
       "    </tr>\n",
       "    <tr>\n",
       "      <th>1848</th>\n",
       "      <td>0</td>\n",
       "      <td>0</td>\n",
       "      <td>0</td>\n",
       "      <td>0</td>\n",
       "      <td>0</td>\n",
       "      <td>0</td>\n",
       "      <td>0</td>\n",
       "      <td>0</td>\n",
       "      <td>0</td>\n",
       "      <td>23</td>\n",
       "      <td>4</td>\n",
       "      <td>420.737401</td>\n",
       "      <td>3975.0</td>\n",
       "      <td>0</td>\n",
       "      <td>0</td>\n",
       "      <td>2015-01-23</td>\n",
       "      <td>3032.0</td>\n",
       "      <td>3521.435303</td>\n",
       "    </tr>\n",
       "    <tr>\n",
       "      <th>1876</th>\n",
       "      <td>0</td>\n",
       "      <td>0</td>\n",
       "      <td>0</td>\n",
       "      <td>0</td>\n",
       "      <td>0</td>\n",
       "      <td>0</td>\n",
       "      <td>0</td>\n",
       "      <td>0</td>\n",
       "      <td>0</td>\n",
       "      <td>51</td>\n",
       "      <td>4</td>\n",
       "      <td>420.737401</td>\n",
       "      <td>3698.0</td>\n",
       "      <td>0</td>\n",
       "      <td>0</td>\n",
       "      <td>2015-02-20</td>\n",
       "      <td>3010.0</td>\n",
       "      <td>3333.246338</td>\n",
       "    </tr>\n",
       "  </tbody>\n",
       "</table>\n",
       "</div>"
      ],
      "text/plain": [
       "      contact_type_Fax - Input  contact_type_Fax Acknowledgement - Input  \\\n",
       "1830                         0                                         0   \n",
       "1848                         0                                         0   \n",
       "1876                         0                                         0   \n",
       "\n",
       "      contact_type_Installation Report - Input  \\\n",
       "1830                                         0   \n",
       "1848                                         0   \n",
       "1876                                         0   \n",
       "\n",
       "      contact_type_Internal Management  contact_type_Mail - Input  \\\n",
       "1830                                 0                          0   \n",
       "1848                                 0                          0   \n",
       "1876                                 0                          0   \n",
       "\n",
       "      contact_type_Mail - Recieved  contact_type_Tweet - Input  \\\n",
       "1830                             0                           0   \n",
       "1848                             0                           0   \n",
       "1876                             0                           0   \n",
       "\n",
       "      contact_type_Visit  contact_type_Web - Input  day_of_year  weekday  \\\n",
       "1830                   0                         0            5        0   \n",
       "1848                   0                         0           23        4   \n",
       "1876                   0                         0           51        4   \n",
       "\n",
       "      mean_contact_week  max_contact_type  is_weekend  isspecialday  \\\n",
       "1830         558.604775            2991.0           0             0   \n",
       "1848         420.737401            3975.0           0             0   \n",
       "1876         420.737401            3698.0           0             0   \n",
       "\n",
       "           date  num_contacts            0  \n",
       "1830 2015-01-05        2991.0   536.776184  \n",
       "1848 2015-01-23        3032.0  3521.435303  \n",
       "1876 2015-02-20        3010.0  3333.246338  "
      ]
     },
     "execution_count": 1241,
     "metadata": {},
     "output_type": "execute_result"
    }
   ],
   "source": [
    "# cond_ = (y_test > 1000) & (y_test <= 2000) & (preds > 3000)\n",
    "cond_ = (y_test > 2900) & (y_test < 3100)\n",
    "index_to_analyze = y_test[cond_].index\n",
    "\n",
    "zzz = pd.concat((X_test.ix[index_to_analyze], \n",
    "                 y_test.ix[index_to_analyze]), axis=1)\n",
    "\n",
    "preds_series = pd.Series(preds[cond_.values], index=zzz.index)\n",
    "\n",
    "zzz = pd.concat((zzz, preds_series), axis=1)\n",
    "\n",
    "zzz"
   ]
  },
  {
   "cell_type": "code",
   "execution_count": null,
   "metadata": {
    "collapsed": true
   },
   "outputs": [],
   "source": [
    "# [120.61773046554161, 108.53284733397189, 57.428651343316155] L.B - 150.11\n",
    "# [110.98862367495407, 107.24306658312813, 58.184749228326552]\n",
    "\n",
    "# [113.29328414676097, 86.883089215522403, 83.092601814105379]\n",
    "# xgb.XGBRegressor(max_depth=6, learning_rate=.009, n_estimators=300, gamma=2., colsample_bytree=.8, min_child_weight=3, seed=SEED)"
   ]
  },
  {
   "cell_type": "code",
   "execution_count": 1284,
   "metadata": {
    "collapsed": false
   },
   "outputs": [
    {
     "name": "stdout",
     "output_type": "stream",
     "text": [
      "FOLD RMSE:  36.2717732064\n",
      "FOLD RMSE:  23.1612047027\n",
      "FOLD RMSE:  20.0846028361\n"
     ]
    },
    {
     "data": {
      "text/plain": [
       "[36.271773206447833, 23.161204702663547, 20.084602836069539]"
      ]
     },
     "execution_count": 1284,
     "metadata": {},
     "output_type": "execute_result"
    }
   ],
   "source": [
    "mask         = X_res.date < '2015/03/16'\n",
    "model_res    = xgb.XGBRegressor(max_depth=6, n_estimators=300, learning_rate=.1, colsample_bytree=.8, seed=SEED)\n",
    "\n",
    "cross_validate_resolutions(X_res.loc[mask, :], y_res.loc[mask], ['2015/01/01', '2015/02/01', '2015/03/01'], model_res, features_res[:-1])"
   ]
  },
  {
   "cell_type": "code",
   "execution_count": 824,
   "metadata": {
    "collapsed": true
   },
   "outputs": [],
   "source": [
    "# [43.923743289684808, 40.875051722019684, 34.596427027205252] L.B - 150.11\n",
    "# [42.968366958995659, 39.503733672365954, 34.025488412413203]\n",
    "\n",
    "# [36.271773206447833, 23.161204702663547, 20.084602836069539]\n",
    "# xgb.XGBRegressor(max_depth=6, n_estimators=300, learning_rate=.1, colsample_bytree=.8, seed=SEED)"
   ]
  },
  {
   "cell_type": "markdown",
   "metadata": {},
   "source": [
    "# Full Training"
   ]
  },
  {
   "cell_type": "code",
   "execution_count": 1286,
   "metadata": {
    "collapsed": false
   },
   "outputs": [],
   "source": [
    "model.fit(X[X.columns.drop('date')], y)\n",
    "model_res.fit(X_res[X_res.columns.drop('date')], y_res)\n",
    "\n",
    "_1_Jan_median_contacts = train.loc[(X.date.dt.month == 1) & (X.date.dt.day == 1), :].groupby('contact_type')['num_contacts'].median()\n",
    "_6_Jan_median_contacts = train.loc[(X.date.dt.month == 1) & (X.date.dt.day == 6), :].groupby('contact_type')['num_contacts'].median()\n",
    "\n",
    "predict     = model.predict(Xtest[Xtest.columns.drop('date')])\n",
    "predict_res = model_res.predict(Xtest_res[Xtest_res.columns.drop('date')])\n",
    "\n",
    "indices_to_replace = Xtest[((Xtest.date.dt.month == 1) & (Xtest.date.dt.day == 1))].index\n",
    "replace_preds      = contacts_test.ix[indices_to_replace]['contact_type'].map(_1_Jan_median_contacts)\n",
    "predict[((Xtest.date.dt.month == 1) & (Xtest.date.dt.day == 1)).values] = replace_preds\n",
    "\n",
    "indices_to_replace = Xtest[((Xtest.date.dt.month == 1) & (Xtest.date.dt.day == 6))].index\n",
    "replace_preds      = contacts_test.ix[indices_to_replace]['contact_type'].map(_6_Jan_median_contacts)\n",
    "predict[((Xtest.date.dt.month == 1) & (Xtest.date.dt.day == 6)).values] = replace_preds"
   ]
  },
  {
   "cell_type": "code",
   "execution_count": 1287,
   "metadata": {
    "collapsed": false
   },
   "outputs": [],
   "source": [
    "predict[(Xtest['contact_type_Installation Report - Input'] == 1).values] = 0.\n",
    "predict[(Xtest['contact_type_Tweet - Input'] == 1).values] = 0."
   ]
  },
  {
   "cell_type": "code",
   "execution_count": 1288,
   "metadata": {
    "collapsed": false
   },
   "outputs": [],
   "source": [
    "sub_contacts = pd.DataFrame({\n",
    "  'ID': contacts_test.ID,\n",
    "  'Contacts': predict,\n",
    "})\n",
    "\n",
    "sub_contacts.loc[sub_contacts.Contacts < 1, 'Contacts'] = 0.\n",
    "\n",
    "sub_contacts.to_csv('../submissions/submissions_rule_based/Contacts.csv', index=False)\n",
    "\n",
    "sub_resolution = pd.DataFrame({\n",
    "  'ID': resolution_test.ID,\n",
    "  'Resolution': predict_res,\n",
    "})\n",
    "\n",
    "sub_resolution.loc[sub_resolution.Resolution < 1, 'Resolution'] = 0.\n",
    "\n",
    "sub_resolution.to_csv('../submissions/submissions_rule_based/Resolution.csv', index=False)"
   ]
  },
  {
   "cell_type": "code",
   "execution_count": 1289,
   "metadata": {
    "collapsed": false
   },
   "outputs": [
    {
     "data": {
      "text/html": [
       "<div>\n",
       "<table border=\"1\" class=\"dataframe\">\n",
       "  <thead>\n",
       "    <tr style=\"text-align: right;\">\n",
       "      <th></th>\n",
       "      <th>Contacts_x</th>\n",
       "      <th>ID</th>\n",
       "      <th>date</th>\n",
       "      <th>contact_type</th>\n",
       "      <th>Contacts_y</th>\n",
       "      <th>quarter_mean</th>\n",
       "    </tr>\n",
       "  </thead>\n",
       "  <tbody>\n",
       "    <tr>\n",
       "      <th>0</th>\n",
       "      <td>0.000000</td>\n",
       "      <td>1</td>\n",
       "      <td>2017-01-01</td>\n",
       "      <td>Mail - Recieved</td>\n",
       "      <td>NaN</td>\n",
       "      <td>5.779037</td>\n",
       "    </tr>\n",
       "    <tr>\n",
       "      <th>1</th>\n",
       "      <td>108.477806</td>\n",
       "      <td>2</td>\n",
       "      <td>2017-01-02</td>\n",
       "      <td>Mail - Recieved</td>\n",
       "      <td>NaN</td>\n",
       "      <td>82.558074</td>\n",
       "    </tr>\n",
       "    <tr>\n",
       "      <th>2</th>\n",
       "      <td>122.305870</td>\n",
       "      <td>3</td>\n",
       "      <td>2017-01-03</td>\n",
       "      <td>Mail - Recieved</td>\n",
       "      <td>NaN</td>\n",
       "      <td>103.084986</td>\n",
       "    </tr>\n",
       "    <tr>\n",
       "      <th>3</th>\n",
       "      <td>131.282059</td>\n",
       "      <td>4</td>\n",
       "      <td>2017-01-04</td>\n",
       "      <td>Mail - Recieved</td>\n",
       "      <td>NaN</td>\n",
       "      <td>102.753541</td>\n",
       "    </tr>\n",
       "    <tr>\n",
       "      <th>4</th>\n",
       "      <td>132.077271</td>\n",
       "      <td>5</td>\n",
       "      <td>2017-01-05</td>\n",
       "      <td>Mail - Recieved</td>\n",
       "      <td>NaN</td>\n",
       "      <td>103.065156</td>\n",
       "    </tr>\n",
       "    <tr>\n",
       "      <th>5</th>\n",
       "      <td>0.000000</td>\n",
       "      <td>6</td>\n",
       "      <td>2017-01-06</td>\n",
       "      <td>Mail - Recieved</td>\n",
       "      <td>NaN</td>\n",
       "      <td>92.228814</td>\n",
       "    </tr>\n",
       "    <tr>\n",
       "      <th>6</th>\n",
       "      <td>10.415906</td>\n",
       "      <td>7</td>\n",
       "      <td>2017-01-07</td>\n",
       "      <td>Mail - Recieved</td>\n",
       "      <td>NaN</td>\n",
       "      <td>14.014124</td>\n",
       "    </tr>\n",
       "    <tr>\n",
       "      <th>7</th>\n",
       "      <td>8.390289</td>\n",
       "      <td>8</td>\n",
       "      <td>2017-01-08</td>\n",
       "      <td>Mail - Recieved</td>\n",
       "      <td>NaN</td>\n",
       "      <td>5.838983</td>\n",
       "    </tr>\n",
       "    <tr>\n",
       "      <th>8</th>\n",
       "      <td>131.525818</td>\n",
       "      <td>9</td>\n",
       "      <td>2017-01-09</td>\n",
       "      <td>Mail - Recieved</td>\n",
       "      <td>NaN</td>\n",
       "      <td>82.935028</td>\n",
       "    </tr>\n",
       "    <tr>\n",
       "      <th>9</th>\n",
       "      <td>133.437378</td>\n",
       "      <td>10</td>\n",
       "      <td>2017-01-10</td>\n",
       "      <td>Mail - Recieved</td>\n",
       "      <td>NaN</td>\n",
       "      <td>103.542373</td>\n",
       "    </tr>\n",
       "    <tr>\n",
       "      <th>10</th>\n",
       "      <td>144.960205</td>\n",
       "      <td>11</td>\n",
       "      <td>2017-01-11</td>\n",
       "      <td>Mail - Recieved</td>\n",
       "      <td>NaN</td>\n",
       "      <td>102.658192</td>\n",
       "    </tr>\n",
       "    <tr>\n",
       "      <th>11</th>\n",
       "      <td>176.250351</td>\n",
       "      <td>12</td>\n",
       "      <td>2017-01-12</td>\n",
       "      <td>Mail - Recieved</td>\n",
       "      <td>NaN</td>\n",
       "      <td>103.338983</td>\n",
       "    </tr>\n",
       "    <tr>\n",
       "      <th>12</th>\n",
       "      <td>160.158173</td>\n",
       "      <td>13</td>\n",
       "      <td>2017-01-13</td>\n",
       "      <td>Mail - Recieved</td>\n",
       "      <td>NaN</td>\n",
       "      <td>92.805634</td>\n",
       "    </tr>\n",
       "    <tr>\n",
       "      <th>13</th>\n",
       "      <td>12.880960</td>\n",
       "      <td>14</td>\n",
       "      <td>2017-01-14</td>\n",
       "      <td>Mail - Recieved</td>\n",
       "      <td>NaN</td>\n",
       "      <td>14.183099</td>\n",
       "    </tr>\n",
       "    <tr>\n",
       "      <th>14</th>\n",
       "      <td>7.864885</td>\n",
       "      <td>15</td>\n",
       "      <td>2017-01-15</td>\n",
       "      <td>Mail - Recieved</td>\n",
       "      <td>NaN</td>\n",
       "      <td>5.842254</td>\n",
       "    </tr>\n",
       "    <tr>\n",
       "      <th>15</th>\n",
       "      <td>139.558044</td>\n",
       "      <td>16</td>\n",
       "      <td>2017-01-16</td>\n",
       "      <td>Mail - Recieved</td>\n",
       "      <td>NaN</td>\n",
       "      <td>83.433803</td>\n",
       "    </tr>\n",
       "    <tr>\n",
       "      <th>16</th>\n",
       "      <td>134.806778</td>\n",
       "      <td>17</td>\n",
       "      <td>2017-01-17</td>\n",
       "      <td>Mail - Recieved</td>\n",
       "      <td>NaN</td>\n",
       "      <td>103.884507</td>\n",
       "    </tr>\n",
       "    <tr>\n",
       "      <th>17</th>\n",
       "      <td>144.960205</td>\n",
       "      <td>18</td>\n",
       "      <td>2017-01-18</td>\n",
       "      <td>Mail - Recieved</td>\n",
       "      <td>NaN</td>\n",
       "      <td>103.121127</td>\n",
       "    </tr>\n",
       "    <tr>\n",
       "      <th>18</th>\n",
       "      <td>176.250351</td>\n",
       "      <td>19</td>\n",
       "      <td>2017-01-19</td>\n",
       "      <td>Mail - Recieved</td>\n",
       "      <td>NaN</td>\n",
       "      <td>103.692958</td>\n",
       "    </tr>\n",
       "    <tr>\n",
       "      <th>19</th>\n",
       "      <td>178.294678</td>\n",
       "      <td>20</td>\n",
       "      <td>2017-01-20</td>\n",
       "      <td>Mail - Recieved</td>\n",
       "      <td>NaN</td>\n",
       "      <td>93.238764</td>\n",
       "    </tr>\n",
       "    <tr>\n",
       "      <th>20</th>\n",
       "      <td>10.760663</td>\n",
       "      <td>21</td>\n",
       "      <td>2017-01-21</td>\n",
       "      <td>Mail - Recieved</td>\n",
       "      <td>NaN</td>\n",
       "      <td>14.238764</td>\n",
       "    </tr>\n",
       "    <tr>\n",
       "      <th>21</th>\n",
       "      <td>8.950574</td>\n",
       "      <td>22</td>\n",
       "      <td>2017-01-22</td>\n",
       "      <td>Mail - Recieved</td>\n",
       "      <td>NaN</td>\n",
       "      <td>5.882022</td>\n",
       "    </tr>\n",
       "    <tr>\n",
       "      <th>22</th>\n",
       "      <td>139.558044</td>\n",
       "      <td>23</td>\n",
       "      <td>2017-01-23</td>\n",
       "      <td>Mail - Recieved</td>\n",
       "      <td>NaN</td>\n",
       "      <td>83.825843</td>\n",
       "    </tr>\n",
       "    <tr>\n",
       "      <th>23</th>\n",
       "      <td>133.160172</td>\n",
       "      <td>24</td>\n",
       "      <td>2017-01-24</td>\n",
       "      <td>Mail - Recieved</td>\n",
       "      <td>NaN</td>\n",
       "      <td>104.193820</td>\n",
       "    </tr>\n",
       "    <tr>\n",
       "      <th>24</th>\n",
       "      <td>144.960205</td>\n",
       "      <td>25</td>\n",
       "      <td>2017-01-25</td>\n",
       "      <td>Mail - Recieved</td>\n",
       "      <td>NaN</td>\n",
       "      <td>103.370787</td>\n",
       "    </tr>\n",
       "    <tr>\n",
       "      <th>25</th>\n",
       "      <td>158.564651</td>\n",
       "      <td>26</td>\n",
       "      <td>2017-01-26</td>\n",
       "      <td>Mail - Recieved</td>\n",
       "      <td>NaN</td>\n",
       "      <td>104.025281</td>\n",
       "    </tr>\n",
       "    <tr>\n",
       "      <th>26</th>\n",
       "      <td>160.296997</td>\n",
       "      <td>27</td>\n",
       "      <td>2017-01-27</td>\n",
       "      <td>Mail - Recieved</td>\n",
       "      <td>NaN</td>\n",
       "      <td>93.616246</td>\n",
       "    </tr>\n",
       "    <tr>\n",
       "      <th>27</th>\n",
       "      <td>13.030185</td>\n",
       "      <td>28</td>\n",
       "      <td>2017-01-28</td>\n",
       "      <td>Mail - Recieved</td>\n",
       "      <td>NaN</td>\n",
       "      <td>14.560224</td>\n",
       "    </tr>\n",
       "    <tr>\n",
       "      <th>28</th>\n",
       "      <td>9.932836</td>\n",
       "      <td>29</td>\n",
       "      <td>2017-01-29</td>\n",
       "      <td>Mail - Recieved</td>\n",
       "      <td>NaN</td>\n",
       "      <td>5.913165</td>\n",
       "    </tr>\n",
       "    <tr>\n",
       "      <th>29</th>\n",
       "      <td>128.984512</td>\n",
       "      <td>30</td>\n",
       "      <td>2017-01-30</td>\n",
       "      <td>Mail - Recieved</td>\n",
       "      <td>NaN</td>\n",
       "      <td>84.170868</td>\n",
       "    </tr>\n",
       "    <tr>\n",
       "      <th>...</th>\n",
       "      <td>...</td>\n",
       "      <td>...</td>\n",
       "      <td>...</td>\n",
       "      <td>...</td>\n",
       "      <td>...</td>\n",
       "      <td>...</td>\n",
       "    </tr>\n",
       "    <tr>\n",
       "      <th>710</th>\n",
       "      <td>0.000000</td>\n",
       "      <td>711</td>\n",
       "      <td>2017-02-14</td>\n",
       "      <td>Tweet - Input</td>\n",
       "      <td>NaN</td>\n",
       "      <td>0.044568</td>\n",
       "    </tr>\n",
       "    <tr>\n",
       "      <th>711</th>\n",
       "      <td>0.000000</td>\n",
       "      <td>712</td>\n",
       "      <td>2017-02-15</td>\n",
       "      <td>Tweet - Input</td>\n",
       "      <td>NaN</td>\n",
       "      <td>0.036212</td>\n",
       "    </tr>\n",
       "    <tr>\n",
       "      <th>712</th>\n",
       "      <td>0.000000</td>\n",
       "      <td>713</td>\n",
       "      <td>2017-02-16</td>\n",
       "      <td>Tweet - Input</td>\n",
       "      <td>NaN</td>\n",
       "      <td>0.058496</td>\n",
       "    </tr>\n",
       "    <tr>\n",
       "      <th>713</th>\n",
       "      <td>0.000000</td>\n",
       "      <td>714</td>\n",
       "      <td>2017-02-17</td>\n",
       "      <td>Tweet - Input</td>\n",
       "      <td>NaN</td>\n",
       "      <td>0.027778</td>\n",
       "    </tr>\n",
       "    <tr>\n",
       "      <th>714</th>\n",
       "      <td>0.000000</td>\n",
       "      <td>715</td>\n",
       "      <td>2017-02-18</td>\n",
       "      <td>Tweet - Input</td>\n",
       "      <td>NaN</td>\n",
       "      <td>0.000000</td>\n",
       "    </tr>\n",
       "    <tr>\n",
       "      <th>715</th>\n",
       "      <td>0.000000</td>\n",
       "      <td>716</td>\n",
       "      <td>2017-02-19</td>\n",
       "      <td>Tweet - Input</td>\n",
       "      <td>NaN</td>\n",
       "      <td>0.000000</td>\n",
       "    </tr>\n",
       "    <tr>\n",
       "      <th>716</th>\n",
       "      <td>0.000000</td>\n",
       "      <td>717</td>\n",
       "      <td>2017-02-20</td>\n",
       "      <td>Tweet - Input</td>\n",
       "      <td>NaN</td>\n",
       "      <td>0.038889</td>\n",
       "    </tr>\n",
       "    <tr>\n",
       "      <th>717</th>\n",
       "      <td>0.000000</td>\n",
       "      <td>718</td>\n",
       "      <td>2017-02-21</td>\n",
       "      <td>Tweet - Input</td>\n",
       "      <td>NaN</td>\n",
       "      <td>0.044444</td>\n",
       "    </tr>\n",
       "    <tr>\n",
       "      <th>718</th>\n",
       "      <td>0.000000</td>\n",
       "      <td>719</td>\n",
       "      <td>2017-02-22</td>\n",
       "      <td>Tweet - Input</td>\n",
       "      <td>NaN</td>\n",
       "      <td>0.036111</td>\n",
       "    </tr>\n",
       "    <tr>\n",
       "      <th>719</th>\n",
       "      <td>0.000000</td>\n",
       "      <td>720</td>\n",
       "      <td>2017-02-23</td>\n",
       "      <td>Tweet - Input</td>\n",
       "      <td>NaN</td>\n",
       "      <td>0.058333</td>\n",
       "    </tr>\n",
       "    <tr>\n",
       "      <th>720</th>\n",
       "      <td>0.000000</td>\n",
       "      <td>721</td>\n",
       "      <td>2017-02-24</td>\n",
       "      <td>Tweet - Input</td>\n",
       "      <td>NaN</td>\n",
       "      <td>0.030471</td>\n",
       "    </tr>\n",
       "    <tr>\n",
       "      <th>721</th>\n",
       "      <td>0.000000</td>\n",
       "      <td>722</td>\n",
       "      <td>2017-02-25</td>\n",
       "      <td>Tweet - Input</td>\n",
       "      <td>NaN</td>\n",
       "      <td>0.000000</td>\n",
       "    </tr>\n",
       "    <tr>\n",
       "      <th>722</th>\n",
       "      <td>0.000000</td>\n",
       "      <td>723</td>\n",
       "      <td>2017-02-26</td>\n",
       "      <td>Tweet - Input</td>\n",
       "      <td>NaN</td>\n",
       "      <td>0.000000</td>\n",
       "    </tr>\n",
       "    <tr>\n",
       "      <th>723</th>\n",
       "      <td>0.000000</td>\n",
       "      <td>724</td>\n",
       "      <td>2017-02-27</td>\n",
       "      <td>Tweet - Input</td>\n",
       "      <td>NaN</td>\n",
       "      <td>0.038781</td>\n",
       "    </tr>\n",
       "    <tr>\n",
       "      <th>724</th>\n",
       "      <td>0.000000</td>\n",
       "      <td>725</td>\n",
       "      <td>2017-02-28</td>\n",
       "      <td>Tweet - Input</td>\n",
       "      <td>NaN</td>\n",
       "      <td>0.044321</td>\n",
       "    </tr>\n",
       "    <tr>\n",
       "      <th>725</th>\n",
       "      <td>0.000000</td>\n",
       "      <td>726</td>\n",
       "      <td>2017-03-01</td>\n",
       "      <td>Tweet - Input</td>\n",
       "      <td>NaN</td>\n",
       "      <td>0.036011</td>\n",
       "    </tr>\n",
       "    <tr>\n",
       "      <th>726</th>\n",
       "      <td>0.000000</td>\n",
       "      <td>727</td>\n",
       "      <td>2017-03-02</td>\n",
       "      <td>Tweet - Input</td>\n",
       "      <td>NaN</td>\n",
       "      <td>0.058172</td>\n",
       "    </tr>\n",
       "    <tr>\n",
       "      <th>727</th>\n",
       "      <td>0.000000</td>\n",
       "      <td>728</td>\n",
       "      <td>2017-03-03</td>\n",
       "      <td>Tweet - Input</td>\n",
       "      <td>NaN</td>\n",
       "      <td>0.030387</td>\n",
       "    </tr>\n",
       "    <tr>\n",
       "      <th>728</th>\n",
       "      <td>0.000000</td>\n",
       "      <td>729</td>\n",
       "      <td>2017-03-04</td>\n",
       "      <td>Tweet - Input</td>\n",
       "      <td>NaN</td>\n",
       "      <td>0.000000</td>\n",
       "    </tr>\n",
       "    <tr>\n",
       "      <th>729</th>\n",
       "      <td>0.000000</td>\n",
       "      <td>730</td>\n",
       "      <td>2017-03-05</td>\n",
       "      <td>Tweet - Input</td>\n",
       "      <td>NaN</td>\n",
       "      <td>0.000000</td>\n",
       "    </tr>\n",
       "    <tr>\n",
       "      <th>730</th>\n",
       "      <td>0.000000</td>\n",
       "      <td>731</td>\n",
       "      <td>2017-03-06</td>\n",
       "      <td>Tweet - Input</td>\n",
       "      <td>NaN</td>\n",
       "      <td>0.038674</td>\n",
       "    </tr>\n",
       "    <tr>\n",
       "      <th>731</th>\n",
       "      <td>0.000000</td>\n",
       "      <td>732</td>\n",
       "      <td>2017-03-07</td>\n",
       "      <td>Tweet - Input</td>\n",
       "      <td>NaN</td>\n",
       "      <td>0.044199</td>\n",
       "    </tr>\n",
       "    <tr>\n",
       "      <th>732</th>\n",
       "      <td>0.000000</td>\n",
       "      <td>733</td>\n",
       "      <td>2017-03-08</td>\n",
       "      <td>Tweet - Input</td>\n",
       "      <td>NaN</td>\n",
       "      <td>0.035912</td>\n",
       "    </tr>\n",
       "    <tr>\n",
       "      <th>733</th>\n",
       "      <td>0.000000</td>\n",
       "      <td>734</td>\n",
       "      <td>2017-03-09</td>\n",
       "      <td>Tweet - Input</td>\n",
       "      <td>NaN</td>\n",
       "      <td>0.058011</td>\n",
       "    </tr>\n",
       "    <tr>\n",
       "      <th>734</th>\n",
       "      <td>0.000000</td>\n",
       "      <td>735</td>\n",
       "      <td>2017-03-10</td>\n",
       "      <td>Tweet - Input</td>\n",
       "      <td>NaN</td>\n",
       "      <td>0.030303</td>\n",
       "    </tr>\n",
       "    <tr>\n",
       "      <th>735</th>\n",
       "      <td>0.000000</td>\n",
       "      <td>736</td>\n",
       "      <td>2017-03-11</td>\n",
       "      <td>Tweet - Input</td>\n",
       "      <td>NaN</td>\n",
       "      <td>0.000000</td>\n",
       "    </tr>\n",
       "    <tr>\n",
       "      <th>736</th>\n",
       "      <td>0.000000</td>\n",
       "      <td>737</td>\n",
       "      <td>2017-03-12</td>\n",
       "      <td>Tweet - Input</td>\n",
       "      <td>NaN</td>\n",
       "      <td>0.000000</td>\n",
       "    </tr>\n",
       "    <tr>\n",
       "      <th>737</th>\n",
       "      <td>0.000000</td>\n",
       "      <td>738</td>\n",
       "      <td>2017-03-13</td>\n",
       "      <td>Tweet - Input</td>\n",
       "      <td>NaN</td>\n",
       "      <td>0.041322</td>\n",
       "    </tr>\n",
       "    <tr>\n",
       "      <th>738</th>\n",
       "      <td>0.000000</td>\n",
       "      <td>739</td>\n",
       "      <td>2017-03-14</td>\n",
       "      <td>Tweet - Input</td>\n",
       "      <td>NaN</td>\n",
       "      <td>0.046832</td>\n",
       "    </tr>\n",
       "    <tr>\n",
       "      <th>739</th>\n",
       "      <td>0.000000</td>\n",
       "      <td>740</td>\n",
       "      <td>2017-03-15</td>\n",
       "      <td>Tweet - Input</td>\n",
       "      <td>NaN</td>\n",
       "      <td>0.035813</td>\n",
       "    </tr>\n",
       "  </tbody>\n",
       "</table>\n",
       "<p>740 rows × 6 columns</p>\n",
       "</div>"
      ],
      "text/plain": [
       "     Contacts_x   ID       date     contact_type  Contacts_y  quarter_mean\n",
       "0      0.000000    1 2017-01-01  Mail - Recieved         NaN      5.779037\n",
       "1    108.477806    2 2017-01-02  Mail - Recieved         NaN     82.558074\n",
       "2    122.305870    3 2017-01-03  Mail - Recieved         NaN    103.084986\n",
       "3    131.282059    4 2017-01-04  Mail - Recieved         NaN    102.753541\n",
       "4    132.077271    5 2017-01-05  Mail - Recieved         NaN    103.065156\n",
       "5      0.000000    6 2017-01-06  Mail - Recieved         NaN     92.228814\n",
       "6     10.415906    7 2017-01-07  Mail - Recieved         NaN     14.014124\n",
       "7      8.390289    8 2017-01-08  Mail - Recieved         NaN      5.838983\n",
       "8    131.525818    9 2017-01-09  Mail - Recieved         NaN     82.935028\n",
       "9    133.437378   10 2017-01-10  Mail - Recieved         NaN    103.542373\n",
       "10   144.960205   11 2017-01-11  Mail - Recieved         NaN    102.658192\n",
       "11   176.250351   12 2017-01-12  Mail - Recieved         NaN    103.338983\n",
       "12   160.158173   13 2017-01-13  Mail - Recieved         NaN     92.805634\n",
       "13    12.880960   14 2017-01-14  Mail - Recieved         NaN     14.183099\n",
       "14     7.864885   15 2017-01-15  Mail - Recieved         NaN      5.842254\n",
       "15   139.558044   16 2017-01-16  Mail - Recieved         NaN     83.433803\n",
       "16   134.806778   17 2017-01-17  Mail - Recieved         NaN    103.884507\n",
       "17   144.960205   18 2017-01-18  Mail - Recieved         NaN    103.121127\n",
       "18   176.250351   19 2017-01-19  Mail - Recieved         NaN    103.692958\n",
       "19   178.294678   20 2017-01-20  Mail - Recieved         NaN     93.238764\n",
       "20    10.760663   21 2017-01-21  Mail - Recieved         NaN     14.238764\n",
       "21     8.950574   22 2017-01-22  Mail - Recieved         NaN      5.882022\n",
       "22   139.558044   23 2017-01-23  Mail - Recieved         NaN     83.825843\n",
       "23   133.160172   24 2017-01-24  Mail - Recieved         NaN    104.193820\n",
       "24   144.960205   25 2017-01-25  Mail - Recieved         NaN    103.370787\n",
       "25   158.564651   26 2017-01-26  Mail - Recieved         NaN    104.025281\n",
       "26   160.296997   27 2017-01-27  Mail - Recieved         NaN     93.616246\n",
       "27    13.030185   28 2017-01-28  Mail - Recieved         NaN     14.560224\n",
       "28     9.932836   29 2017-01-29  Mail - Recieved         NaN      5.913165\n",
       "29   128.984512   30 2017-01-30  Mail - Recieved         NaN     84.170868\n",
       "..          ...  ...        ...              ...         ...           ...\n",
       "710    0.000000  711 2017-02-14    Tweet - Input         NaN      0.044568\n",
       "711    0.000000  712 2017-02-15    Tweet - Input         NaN      0.036212\n",
       "712    0.000000  713 2017-02-16    Tweet - Input         NaN      0.058496\n",
       "713    0.000000  714 2017-02-17    Tweet - Input         NaN      0.027778\n",
       "714    0.000000  715 2017-02-18    Tweet - Input         NaN      0.000000\n",
       "715    0.000000  716 2017-02-19    Tweet - Input         NaN      0.000000\n",
       "716    0.000000  717 2017-02-20    Tweet - Input         NaN      0.038889\n",
       "717    0.000000  718 2017-02-21    Tweet - Input         NaN      0.044444\n",
       "718    0.000000  719 2017-02-22    Tweet - Input         NaN      0.036111\n",
       "719    0.000000  720 2017-02-23    Tweet - Input         NaN      0.058333\n",
       "720    0.000000  721 2017-02-24    Tweet - Input         NaN      0.030471\n",
       "721    0.000000  722 2017-02-25    Tweet - Input         NaN      0.000000\n",
       "722    0.000000  723 2017-02-26    Tweet - Input         NaN      0.000000\n",
       "723    0.000000  724 2017-02-27    Tweet - Input         NaN      0.038781\n",
       "724    0.000000  725 2017-02-28    Tweet - Input         NaN      0.044321\n",
       "725    0.000000  726 2017-03-01    Tweet - Input         NaN      0.036011\n",
       "726    0.000000  727 2017-03-02    Tweet - Input         NaN      0.058172\n",
       "727    0.000000  728 2017-03-03    Tweet - Input         NaN      0.030387\n",
       "728    0.000000  729 2017-03-04    Tweet - Input         NaN      0.000000\n",
       "729    0.000000  730 2017-03-05    Tweet - Input         NaN      0.000000\n",
       "730    0.000000  731 2017-03-06    Tweet - Input         NaN      0.038674\n",
       "731    0.000000  732 2017-03-07    Tweet - Input         NaN      0.044199\n",
       "732    0.000000  733 2017-03-08    Tweet - Input         NaN      0.035912\n",
       "733    0.000000  734 2017-03-09    Tweet - Input         NaN      0.058011\n",
       "734    0.000000  735 2017-03-10    Tweet - Input         NaN      0.030303\n",
       "735    0.000000  736 2017-03-11    Tweet - Input         NaN      0.000000\n",
       "736    0.000000  737 2017-03-12    Tweet - Input         NaN      0.000000\n",
       "737    0.000000  738 2017-03-13    Tweet - Input         NaN      0.041322\n",
       "738    0.000000  739 2017-03-14    Tweet - Input         NaN      0.046832\n",
       "739    0.000000  740 2017-03-15    Tweet - Input         NaN      0.035813\n",
       "\n",
       "[740 rows x 6 columns]"
      ]
     },
     "execution_count": 1289,
     "metadata": {},
     "output_type": "execute_result"
    }
   ],
   "source": [
    "sub_contacts.merge(contacts_test, left_on='ID', right_on='ID')"
   ]
  },
  {
   "cell_type": "code",
   "execution_count": null,
   "metadata": {
    "collapsed": true
   },
   "outputs": [],
   "source": []
  }
 ],
 "metadata": {
  "kernelspec": {
   "display_name": "Python 3",
   "language": "python",
   "name": "python3"
  },
  "language_info": {
   "codemirror_mode": {
    "name": "ipython",
    "version": 3
   },
   "file_extension": ".py",
   "mimetype": "text/x-python",
   "name": "python",
   "nbconvert_exporter": "python",
   "pygments_lexer": "ipython3",
   "version": "3.6.0"
  }
 },
 "nbformat": 4,
 "nbformat_minor": 2
}
